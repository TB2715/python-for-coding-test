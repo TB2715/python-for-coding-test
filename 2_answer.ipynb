{
 "cells": [
  {
   "cell_type": "markdown",
   "id": "1be6f213-84bd-4bc0-a5d6-381b6777e244",
   "metadata": {},
   "source": [
    "*  핵심: 입력값 중에서 가장 큰 수와 두번째로 큰 수만 저장하면 된다.\n",
    "* \"가장 큰 수를 K번 더하고 두 번째로 큰 수를 한 번 더하는 연산\"을 반복\n"
   ]
  },
  {
   "cell_type": "code",
   "execution_count": 2,
   "id": "b69e6c65-c540-477b-9d6e-87957b1aff28",
   "metadata": {},
   "outputs": [
    {
     "name": "stdin",
     "output_type": "stream",
     "text": [
      "enter n, m, k:  5 8 3\n",
      "enter data list:  2 4 5 4 6\n"
     ]
    },
    {
     "name": "stdout",
     "output_type": "stream",
     "text": [
      "46\n"
     ]
    }
   ],
   "source": [
    "# N, M, K를 공백으로 구분하여 입력받음\n",
    "n, m, k = map(int, input('enter n, m, k: ').split())\n",
    "\n",
    "# N개의 수를 공백으로 구분하여 입력 받음\n",
    "data = list(map(int, input('enter data list: ').split()))\n",
    "\n",
    "data.sort() #입력받은 수들을 정렬\n",
    "first = data[n-1] # 가장 큰 수\n",
    "second = data[n-2] # 두번째로 큰 수\n",
    "\n",
    "result = 0\n",
    "\n",
    "while True:\n",
    "    for i in range(k): # 가장 큰 수를 K번 더함\n",
    "        if m == 0:\n",
    "            break\n",
    "        result += first\n",
    "        m -= 1 # 더할 때 마다 -1\n",
    "\n",
    "    if m == 0:\n",
    "        break\n",
    "\n",
    "    result += second # 두번째로 큰 수를 한 번 더함\n",
    "    m -= 1\n",
    "\n",
    "print(result)"
   ]
  },
  {
   "cell_type": "markdown",
   "id": "b6cb2351-7b31-4121-a719-66d3a37d0d5a",
   "metadata": {},
   "source": [
    "(6+6+6+5) + (6+6+6+5)로, 정답은 46  \n",
    "\n",
    "문제를 풀기 위해 <b>반복되는 수열에 대해 파악</b>해야 함.  \n",
    "=> 가장 큰 수와 두번째로 큰 수가 더해질 때 특정한 수열 형태로 일정하게 반복해서 더해지는 특징   \n",
    "\n",
    "반복되는 수열의 길이 = (k+1)  \n",
    "\n",
    "<b>M을 (K+1)로 나눈 몫이 수열이 반복되는 횟수</b> 이며, 여기에 K를 곱하면 가장 큰 수가 등장하는 횟수가 됨.  \n",
    "\n",
    "### 가장 큰 수가 더해지는 횟수\n",
    "\n",
    "int(M/(K+1)) * K + M%(K+1)\n",
    "\n",
    "* int(M/(K+1)) * K = 8번을 가장 큰 수(3번)+ 그 다음 큰 수(1번) 으로 나눈 몫 (특정 수열 형태가 2번 들어감) = 6번 \n",
    "* M % (K+1) = 남은 횟수를 확인해서, 큰 수가 몇 번 더 들어갈 지 계산"
   ]
  },
  {
   "cell_type": "code",
   "execution_count": 4,
   "id": "4538840d-d2e8-458e-9d4f-1b9b4aa07f99",
   "metadata": {},
   "outputs": [
    {
     "name": "stdin",
     "output_type": "stream",
     "text": [
      "enter n, m, k:  5 8 3\n",
      "enter data list:  2 4 5 4 6\n"
     ]
    },
    {
     "name": "stdout",
     "output_type": "stream",
     "text": [
      "46\n"
     ]
    }
   ],
   "source": [
    "# N, M, K를 공백으로 구분하여 입력받음\n",
    "n, m, k = map(int, input('enter n, m, k: ').split())\n",
    "\n",
    "# N개의 수를 공백으로 구분하여 입력 받음\n",
    "data = list(map(int, input('enter data list: ').split()))\n",
    "\n",
    "data.sort() #입력받은 수들을 정렬\n",
    "first = data[n-1] # 가장 큰 수\n",
    "second = data[n-2] # 두번째로 큰 수\n",
    "\n",
    "# 가장 큰 수가 들어가는 횟수만을 확인함 \n",
    "count = int(m/(k+1)) * k # 2 * 3(k)  => 가장 큰 수는 6번 들어감 \n",
    "count += m%(k+1)         # 0 => 남은 횟수 \n",
    "\n",
    "result = 0\n",
    "result += (count) * first     # 6(count) * 6(first)\n",
    "result += (m-count) * second  # 8(m) - 6(count) =  2(두번째 큰 수가 들어갈 횟수) * 5(second)\n",
    "\n",
    "print(result)"
   ]
  }
 ],
 "metadata": {
  "kernelspec": {
   "display_name": "Python 3 (ipykernel)",
   "language": "python",
   "name": "python3"
  },
  "language_info": {
   "codemirror_mode": {
    "name": "ipython",
    "version": 3
   },
   "file_extension": ".py",
   "mimetype": "text/x-python",
   "name": "python",
   "nbconvert_exporter": "python",
   "pygments_lexer": "ipython3",
   "version": "3.8.9"
  }
 },
 "nbformat": 4,
 "nbformat_minor": 5
}

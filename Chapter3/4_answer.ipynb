{
 "cells": [
  {
   "cell_type": "markdown",
   "id": "d6046d66-3b13-4a60-b13e-de33ab2e102e",
   "metadata": {},
   "source": [
    "'최대한 많이 나누기'를 수행  \n",
    "\n",
    "K를 최대한 많이 나눌 수 있도록 하는 것이 최적의 해를 보장하는 것"
   ]
  },
  {
   "cell_type": "code",
   "execution_count": 1,
   "id": "d96c89c2-6924-46d7-99b3-2927007ca58a",
   "metadata": {},
   "outputs": [
    {
     "name": "stdin",
     "output_type": "stream",
     "text": [
      " 25 3\n"
     ]
    },
    {
     "name": "stdout",
     "output_type": "stream",
     "text": [
      "6\n"
     ]
    }
   ],
   "source": [
    "n, k = map(int, input().split())\n",
    "result = 0\n",
    "\n",
    "while n >= k: # N이 K 이상이라면 K로 계속 나누기\n",
    "    while n%k != 0: # N이 K로 나누어 떨어지지 않는다면, N에서 1씩 빼기 \n",
    "        n -= 1\n",
    "        result += 1 \n",
    "    n //= k # K로 나누기 \n",
    "    result += 1 \n",
    "    \n",
    "while n>1: # 마지막으로 남은 수에 대해 1씩 뺴기 \n",
    "    n-=1\n",
    "    result += 1\n",
    "    \n",
    "print(result)"
   ]
  },
  {
   "cell_type": "markdown",
   "id": "4e219e7b-4950-4283-a603-584c63f9cbf7",
   "metadata": {},
   "source": [
    "문제에서는 N의 범위가 10만 이하이므로, 1을 하나씩 빼도 문제를 해결할 수 있지만, 100억 이상의 큰 수일 경우 N이 K의 배수가 되도록 효율적으로 한번에 빼는 방식으로 코드 작성 가능"
   ]
  },
  {
   "cell_type": "code",
   "execution_count": 2,
   "id": "162064c6-2fe9-49b7-b155-a52245c7e223",
   "metadata": {},
   "outputs": [
    {
     "name": "stdin",
     "output_type": "stream",
     "text": [
      " 25 3\n"
     ]
    },
    {
     "name": "stdout",
     "output_type": "stream",
     "text": [
      "6\n"
     ]
    }
   ],
   "source": [
    "n, k = map(int, input().split())\n",
    "result = 0\n",
    "\n",
    "while True:\n",
    "    target = (n//k) * k # N이 K로 나눠지는 수가 될 때까지 1씩 뺀다\n",
    "    result += (n-target)# 그 차이를 계산\n",
    "    n = target\n",
    "    \n",
    "    if n < k: # N이 K보다 작을 떄 (더 이상 나눌 수 없을 떄) 반복문 탈출        \n",
    "        break\n",
    "    \n",
    "    # K로 나누기\n",
    "    result += 1 \n",
    "    n //= k\n",
    "    \n",
    "# 마지막으로 남은 수에 대해서 1씩 빼기\n",
    "result += (n-1)\n",
    "print(result)"
   ]
  }
 ],
 "metadata": {
  "kernelspec": {
   "display_name": "Python 3 (ipykernel)",
   "language": "python",
   "name": "python3"
  },
  "language_info": {
   "codemirror_mode": {
    "name": "ipython",
    "version": 3
   },
   "file_extension": ".py",
   "mimetype": "text/x-python",
   "name": "python",
   "nbconvert_exporter": "python",
   "pygments_lexer": "ipython3",
   "version": "3.8.9"
  }
 },
 "nbformat": 4,
 "nbformat_minor": 5
}

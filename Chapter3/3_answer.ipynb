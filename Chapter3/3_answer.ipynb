{
 "cells": [
  {
   "cell_type": "markdown",
   "id": "bfdb0125-fcc2-4d2a-ab39-37fae3efe51c",
   "metadata": {},
   "source": [
    "## 3-3. py min()함수를 이용하는 답안 예시"
   ]
  },
  {
   "cell_type": "code",
   "execution_count": 1,
   "id": "cfed04bf-6cf4-4ba0-bb81-3785547863db",
   "metadata": {},
   "outputs": [
    {
     "name": "stdin",
     "output_type": "stream",
     "text": [
      " 2 2\n",
      " 1 2\n",
      " 2 3\n"
     ]
    },
    {
     "name": "stdout",
     "output_type": "stream",
     "text": [
      "2\n"
     ]
    }
   ],
   "source": [
    "n, m = map(int, input().split())\n",
    "\n",
    "result = 0\n",
    "\n",
    "# 한 줄씩 입력받아 확인 \n",
    "for i in range(n):\n",
    "    data = list(map(int, input().split())) # 한 줄씩 입력받음\n",
    "    min_value = min(data)\n",
    "    result = max(result, min_value) # 가장 작은 수 들 중에서 가장 큰 수 찾기 \n",
    "    \n",
    "print(result)"
   ]
  },
  {
   "cell_type": "markdown",
   "id": "efb983f9-a897-4ede-b3a3-c77919a07d50",
   "metadata": {},
   "source": [
    "## 3-4.py 2중 반복문 구조를 이용하는 답안 예시"
   ]
  },
  {
   "cell_type": "code",
   "execution_count": 2,
   "id": "b5a2cb7e-83ed-4e85-9658-93936ee11437",
   "metadata": {},
   "outputs": [
    {
     "name": "stdin",
     "output_type": "stream",
     "text": [
      " 3 3\n",
      " 3 1 2\n",
      " 4 1 4\n",
      " 2 2 2\n"
     ]
    },
    {
     "name": "stdout",
     "output_type": "stream",
     "text": [
      "2\n"
     ]
    }
   ],
   "source": [
    "n, m = map(int, input().split())\n",
    "\n",
    "result = 0 \n",
    "\n",
    "for i in range(n):\n",
    "    data = list(map(int, input().split()))\n",
    "    \n",
    "    min_value = 10001\n",
    "    \n",
    "    for a in data:\n",
    "        min_value = min(min_value, a)\n",
    "        \n",
    "    # 가장 작은 수 들 중에서 가장 큰 수 찾기\n",
    "    result = max(result, min_value)\n",
    "    \n",
    "print(result)"
   ]
  }
 ],
 "metadata": {
  "kernelspec": {
   "display_name": "Python 3 (ipykernel)",
   "language": "python",
   "name": "python3"
  },
  "language_info": {
   "codemirror_mode": {
    "name": "ipython",
    "version": 3
   },
   "file_extension": ".py",
   "mimetype": "text/x-python",
   "name": "python",
   "nbconvert_exporter": "python",
   "pygments_lexer": "ipython3",
   "version": "3.8.9"
  }
 },
 "nbformat": 4,
 "nbformat_minor": 5
}
